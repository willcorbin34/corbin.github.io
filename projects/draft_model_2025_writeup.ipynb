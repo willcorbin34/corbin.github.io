{
 "cells": [
  {
   "cell_type": "markdown",
   "id": "24d8dec0",
   "metadata": {},
   "source": [
    "# 2025 NBA Draft College Prospect Rating"
   ]
  },
  {
   "cell_type": "markdown",
   "id": "25a648d0",
   "metadata": {},
   "source": [
    "This prospect rating method is heavily inspires by Stephen Shea's \"College Prospect Rating 1.0\" from his book \"Basketball Analytics: Spatial Tracking.\"\n",
    "\n",
    "This tool is helpful in identifying players that \"the analytics\" like. It can be used as yet another tool in evaluating NBA Draft prospects, but should not be the main source of doing so. For example, this model had Alperen Sengun as the top player in his draft class. This isn't to say that he should've been the number one pick, but maybe indicate that he had more value than people thought and could've been drafted higher than 16th.\n"
   ]
  },
  {
   "cell_type": "markdown",
   "id": "f4007cf8",
   "metadata": {},
   "source": [
    "## Methodology"
   ]
  },
  {
   "cell_type": "markdown",
   "id": "b18ce00a",
   "metadata": {},
   "source": [
    "The logic behind this prospect rating system is that players are proven to get more consistent over time, so we should pay more attention to their best performances rather than the games where they have an off-night. Instead of taking full season averages, we take the average of the player's top 10 performances in many of the stat categories from the 2024-25 season (except 3P%, FT%, and 3PA). \n",
    "\n",
    "I created a function to automatically collect the box score stats (via basketball reference) from the top college players in the 2025 draft class. The most basic stats collected are points, assists, and total rebounds. Offensive rebounds, blocks, and steals serve as an applied athleticism category. 3P%, FT%, and 3PA are our shooting category. Age rating is how many seasons the player played, with some seniors getting a 3.5 instead of a 4 if they are still younger than 23. \n",
    "\n",
    "Once the data is collected, the methodology is as follows:\n",
    "1. Standardize each stat column across all players in the dataset.\n",
    "2. Add up each player's standardized columns to get a raw total.\n",
    "3. Scale to make the raw total positive and to make the differences between player ratings clearer (A ton of players get bunched up in similar ranges, so this adds some separation).\n",
    "4. Scale based on the age rating to penalize the older players who have had more years to gain consistency."
   ]
  },
  {
   "cell_type": "markdown",
   "id": "8c9f458c",
   "metadata": {},
   "source": [
    "## Results"
   ]
  },
  {
   "cell_type": "markdown",
   "id": "03f25aba",
   "metadata": {},
   "source": [
    "### Rankings With Age Factored In"
   ]
  },
  {
   "cell_type": "code",
   "execution_count": 2,
   "id": "5642ac43",
   "metadata": {},
   "outputs": [],
   "source": [
    "import pandas as pd\n",
    "\n",
    "df = pd.read_csv('adjusted_total_df.csv')\n",
    "df = df[['Player', 'Position', 'Net Raw Total', 'Adjusted Total']]\n"
   ]
  },
  {
   "cell_type": "code",
   "execution_count": 7,
   "id": "e03657c0",
   "metadata": {},
   "outputs": [
    {
     "name": "stdout",
     "output_type": "stream",
     "text": [
      "                  Player  Adjusted Total\n",
      "            Cooper Flagg       17.274821\n",
      "            VJ Edgecombe       10.887321\n",
      "            Dylan Harper       10.132889\n",
      "          Airious Bailey        9.621652\n",
      "              Asa Newell        8.367489\n",
      "     Kasparas Jakucionis        8.361673\n",
      "             Tre Johnson        8.220013\n",
      "             Derik Queen        8.052597\n",
      "            Kon Knueppel        7.593112\n",
      "           Thomas Sorber        7.247848\n",
      "          Jeremiah Fears        6.561170\n",
      "           Liam McNeeley        4.785702\n",
      "         Jase Richardson        4.708766\n",
      "              Egor Demin        4.502301\n",
      "              Will Riley        3.942914\n",
      "          Khaman Maluach        3.353220\n",
      "            Johni Broome        3.261277\n",
      "          Maxime Raynaud        3.186654\n",
      "         Rasheer Fleming        3.112991\n",
      "                 RJ Luis        3.081105\n",
      "           Carter Bryant        2.973006\n",
      "    Collin Murray-Boyles        2.896237\n",
      "              Danny Wolf        2.849505\n",
      "            Drake Powell        2.033211\n",
      "               Kam Jones        1.929086\n",
      "        Walter ClaytonJr        1.871077\n",
      "             Adou Thiero        1.664947\n",
      "           Ryan Nembhard        1.618099\n",
      "          Nique Clifford        1.608811\n",
      "Yanic Konan-Niederhauser        1.559460\n",
      "          Tyrese Proctor        1.129453\n",
      "           Jamir Watkins        1.035523\n",
      "           Hunter Sallis        1.010934\n",
      "              Mark Sears        1.004819\n",
      "        Ryan Kalkbrenner        0.922220\n",
      "             Micah Peavy        0.886282\n",
      "             Tamar Bates        0.807163\n",
      "          Brice Williams        0.790586\n",
      "             Jalon Moore        0.770598\n",
      "            Kobe Sanders        0.729278\n",
      "              Eric Dixon        0.725916\n",
      "          Amari Williams        0.520390\n",
      "             Chaz Lanier        0.514335\n",
      "              Sion James        0.455880\n",
      "               Koby Brea        0.413933\n",
      "           Cedric Coward        0.365627\n",
      "         Jaxson Robinson        0.206957\n"
     ]
    }
   ],
   "source": [
    "print(df[['Player', 'Adjusted Total']].to_string(index=False))"
   ]
  },
  {
   "cell_type": "markdown",
   "id": "5c9766b0",
   "metadata": {},
   "source": [
    "### Rankings Without Age Factored In"
   ]
  },
  {
   "cell_type": "code",
   "execution_count": 8,
   "id": "534c9f9a",
   "metadata": {},
   "outputs": [
    {
     "name": "stdout",
     "output_type": "stream",
     "text": [
      "                  Player  Net Raw Total\n",
      "            Cooper Flagg      17.274821\n",
      "            Johni Broome      16.022653\n",
      "          Maxime Raynaud      12.007629\n",
      "            VJ Edgecombe      10.887321\n",
      "            Dylan Harper      10.132889\n",
      "          Airious Bailey       9.621652\n",
      "               Kam Jones       9.477601\n",
      "         Rasheer Fleming       8.996544\n",
      "                 RJ Luis       8.904392\n",
      "              Asa Newell       8.367489\n",
      "     Kasparas Jakucionis       8.361673\n",
      "              Danny Wolf       8.235070\n",
      "             Tre Johnson       8.220013\n",
      "             Derik Queen       8.052597\n",
      "          Nique Clifford       7.904091\n",
      "            Kon Knueppel       7.593112\n",
      "           Thomas Sorber       7.247848\n",
      "        Walter ClaytonJr       7.050403\n",
      "          Jeremiah Fears       6.561170\n",
      "           Ryan Nembhard       6.097156\n",
      "           Jamir Watkins       5.087523\n",
      "              Mark Sears       4.936676\n",
      "    Collin Murray-Boyles       4.923602\n",
      "             Adou Thiero       4.811698\n",
      "           Liam McNeeley       4.785702\n",
      "         Jase Richardson       4.708766\n",
      "        Ryan Kalkbrenner       4.530867\n",
      "Yanic Konan-Niederhauser       4.506839\n",
      "              Egor Demin       4.502301\n",
      "             Micah Peavy       4.354304\n",
      "              Will Riley       3.942914\n",
      "          Brice Williams       3.884148\n",
      "           Hunter Sallis       3.809300\n",
      "            Kobe Sanders       3.582945\n",
      "              Eric Dixon       3.566428\n",
      "          Khaman Maluach       3.353220\n",
      "          Tyrese Proctor       3.264119\n",
      "             Tamar Bates       3.041471\n",
      "           Carter Bryant       2.973006\n",
      "             Jalon Moore       2.903690\n",
      "          Amari Williams       2.556674\n",
      "             Chaz Lanier       2.526929\n",
      "              Sion James       2.239739\n",
      "               Koby Brea       2.033651\n",
      "            Drake Powell       2.033211\n",
      "           Cedric Coward       1.056662\n",
      "         Jaxson Robinson       0.779835\n"
     ]
    }
   ],
   "source": [
    "print(df[['Player', 'Net Raw Total']].sort_values(by='Net Raw Total', ascending=False).to_string(index=False))"
   ]
  },
  {
   "cell_type": "markdown",
   "id": "7ca5c549",
   "metadata": {},
   "source": [
    "## Next Steps:\n",
    "\n",
    "- Add in international players. They are harder to deal with because it is hard to know how good leagues are, and often because they are the pros, these prospects do not play as many minutes.\n",
    "- Change the stats to a per 40 minutes basis to account for players who play more or less minutes.\n",
    "- Start the process over, but within position groups.\n"
   ]
  },
  {
   "cell_type": "markdown",
   "id": "8e249215",
   "metadata": {},
   "source": [
    "## Code\n",
    "\n",
    "Code can be found at this [link]()."
   ]
  }
 ],
 "metadata": {
  "kernelspec": {
   "display_name": "Analytics2025",
   "language": "python",
   "name": "python3"
  },
  "language_info": {
   "codemirror_mode": {
    "name": "ipython",
    "version": 3
   },
   "file_extension": ".py",
   "mimetype": "text/x-python",
   "name": "python",
   "nbconvert_exporter": "python",
   "pygments_lexer": "ipython3",
   "version": "3.13.3"
  }
 },
 "nbformat": 4,
 "nbformat_minor": 5
}
